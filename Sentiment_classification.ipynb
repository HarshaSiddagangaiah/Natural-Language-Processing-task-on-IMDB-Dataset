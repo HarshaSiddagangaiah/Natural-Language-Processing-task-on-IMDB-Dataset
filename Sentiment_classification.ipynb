{
  "cells": [
    {
      "cell_type": "code",
      "execution_count": null,
      "metadata": {
        "id": "MlkRLkCIflYw"
      },
      "outputs": [],
      "source": [
        "# Import necessary libraries\n",
        "import json\n",
        "from nltk import word_tokenize\n",
        "import numpy as np\n",
        "import glob\n",
        "from tqdm import tqdm\n",
        "import nltk\n"
      ]
    },
    {
      "cell_type": "code",
      "execution_count": null,
      "metadata": {
        "colab": {
          "base_uri": "https://localhost:8080/"
        },
        "id": "On3ZVb-ffo8B",
        "outputId": "26d9f935-fda6-4dd8-e7a8-5d346f3a18d3"
      },
      "outputs": [
        {
          "output_type": "stream",
          "name": "stdout",
          "text": [
            "Mounted at /content/drive\n"
          ]
        }
      ],
      "source": [
        "# Uploading the training data and GLoVe Embedding to your Google Drive\n",
        "\n",
        "# Connecting this Google Colab to your Google Drive storage\n",
        "from google.colab import drive\n",
        "drive.mount('/content/drive')"
      ]
    },
    {
      "cell_type": "code",
      "execution_count": null,
      "metadata": {
        "colab": {
          "base_uri": "https://localhost:8080/"
        },
        "id": "ztn9Qmax-NmN",
        "outputId": "b41a049a-4104-4bd3-9980-a97491f10e31"
      },
      "outputs": [
        {
          "output_type": "stream",
          "name": "stdout",
          "text": [
            "Mon May 30 03:11:40 2022       \n",
            "+-----------------------------------------------------------------------------+\n",
            "| NVIDIA-SMI 460.32.03    Driver Version: 460.32.03    CUDA Version: 11.2     |\n",
            "|-------------------------------+----------------------+----------------------+\n",
            "| GPU  Name        Persistence-M| Bus-Id        Disp.A | Volatile Uncorr. ECC |\n",
            "| Fan  Temp  Perf  Pwr:Usage/Cap|         Memory-Usage | GPU-Util  Compute M. |\n",
            "|                               |                      |               MIG M. |\n",
            "|===============================+======================+======================|\n",
            "|   0  Tesla T4            Off  | 00000000:00:04.0 Off |                    0 |\n",
            "| N/A   40C    P8     9W /  70W |      0MiB / 15109MiB |      0%      Default |\n",
            "|                               |                      |                  N/A |\n",
            "+-------------------------------+----------------------+----------------------+\n",
            "                                                                               \n",
            "+-----------------------------------------------------------------------------+\n",
            "| Processes:                                                                  |\n",
            "|  GPU   GI   CI        PID   Type   Process name                  GPU Memory |\n",
            "|        ID   ID                                                   Usage      |\n",
            "|=============================================================================|\n",
            "|  No running processes found                                                 |\n",
            "+-----------------------------------------------------------------------------+\n"
          ]
        }
      ],
      "source": [
        "# Check if an Nvidia GPU is available\n",
        "# https://www.tutorialspoint.com/google_colab/google_colab_using_free_gpu.htm\n",
        "!nvidia-smi"
      ]
    },
    {
      "cell_type": "code",
      "execution_count": null,
      "metadata": {
        "id": "RraRAKxSiOL9"
      },
      "outputs": [],
      "source": [
        "def load_glove(path, dim=300):\n",
        "    \"\"\"\n",
        "    GLoVe embedding is a way to map a word into a fixed-dimension vector.\n",
        "    This function load the GLoVe embedding\n",
        "    :param path:\n",
        "    :param dim: dimesion of the word vector\n",
        "    :return: a 2D numpy matrix and a dictionary that maps a word into index in the numpy matrix\n",
        "    \"\"\"\n",
        "    matrix = []\n",
        "    word_index = dict()\n",
        "\n",
        "    # Adding a zero vector of the same size as \"<PAD>\" token, index of 0\n",
        "    # Adding a random vector of the same size as \"<UNK>\" token, index of 1\n",
        "\n",
        "    matrix.append([0.] * dim)\n",
        "    matrix.append([0.] * dim)\n",
        "    word_index['<PAD>'] = 0\n",
        "    word_index['<UNK>'] = 1\n",
        "    # Load from glove\n",
        "    #\n",
        "    with open(path, encoding='latin-1') as f:\n",
        "        lines = f.readlines()\n",
        "        for l in lines:\n",
        "            parts = l.split(' ')\n",
        "            vector = [float(x) for x in parts[1:]]\n",
        "            matrix.append(vector)\n",
        "            word_index[parts[0]] = len(word_index)\n",
        "\n",
        "    matrix = np.array(matrix, dtype=np.float)\n",
        "    return matrix, word_index"
      ]
    },
    {
      "cell_type": "code",
      "execution_count": null,
      "metadata": {
        "colab": {
          "base_uri": "https://localhost:8080/"
        },
        "id": "-p_a0EZNifhT",
        "outputId": "f5e1962b-8746-4b22-96ca-53961d0f1bd5"
      },
      "outputs": [
        {
          "output_type": "stream",
          "name": "stderr",
          "text": [
            "/usr/local/lib/python3.7/dist-packages/ipykernel_launcher.py:29: DeprecationWarning: `np.float` is a deprecated alias for the builtin `float`. To silence this warning, use `float` by itself. Doing this will not modify any behavior and is safe. If you specifically wanted the numpy scalar type, use `np.float64` here.\n",
            "Deprecated in NumPy 1.20; for more details and guidance: https://numpy.org/devdocs/release/1.20.0-notes.html#deprecations\n"
          ]
        }
      ],
      "source": [
        "# Actually call the function to load the GLoVe\n",
        "import os\n",
        "matrix, word_index = load_glove('drive/MyDrive/temp/glove.6B.50d.txt', 50)\n"
      ]
    },
    {
      "cell_type": "code",
      "execution_count": null,
      "metadata": {
        "colab": {
          "base_uri": "https://localhost:8080/"
        },
        "id": "bisBjTStimG7",
        "outputId": "e5c09ee0-163b-4e6e-f316-2fbdc8c58eae"
      },
      "outputs": [
        {
          "output_type": "stream",
          "name": "stdout",
          "text": [
            "[nltk_data] Downloading package punkt to /root/nltk_data...\n",
            "[nltk_data]   Unzipping tokenizers/punkt.zip.\n"
          ]
        }
      ],
      "source": [
        "# More libraries and download data for the word tokenizer.\n",
        "\n",
        "import torch\n",
        "from torch.utils.data import Dataset\n",
        "import nltk\n",
        "nltk.download('punkt')\n",
        "from nltk import word_tokenize"
      ]
    },
    {
      "cell_type": "code",
      "execution_count": null,
      "metadata": {
        "id": "gE9L0cJXjMxp"
      },
      "outputs": [],
      "source": [
        "# A \"Dataset\" class manage the loading/preprocessing/sampling/packaging of input data\n",
        "# It is used by a \"DataLoader\" in the later part of the code\n",
        "class ImdbDataset(Dataset):\n",
        "\n",
        "    def __init__(self, data_file_path, word_index, max_length):\n",
        "        super(ImdbDataset, self).__init__()\n",
        "        self.word_index = word_index\n",
        "        # Paragraph max length\n",
        "        self.ML = max_length\n",
        "        # Load data from data_file_path\n",
        "        self.data = load_json(data_file_path)\n",
        "        # Target is an integer representing a class\n",
        "        # E.g. label=\"positive\" -> target=1\n",
        "        #      label=\"negative\" -> target=0\n",
        "        self.target_map ={\n",
        "            'positive': 1,\n",
        "            'negative': 0\n",
        "        }\n",
        "\n",
        "\n",
        "    def __len__(self):\n",
        "        # Returning the length of the dataset, basically, the number of data points\n",
        "        return len(self.data)\n",
        "\n",
        "    def all_targets(self):\n",
        "        # Returning all the targets of the dataset, orderly.\n",
        "        return [x['target'] for x in self.data]\n",
        "\n",
        "    def __getitem__(self, idx):\n",
        "        \"\"\"\n",
        "        :param idx: an index of a data point from the dataset.\n",
        "        \"\"\"\n",
        "        # Just picking it from self.data\n",
        "        item = self.data[idx]\n",
        "\n",
        "        # Tokenize and initialize the target for each data point.\n",
        "        # Tokenize paragraphs into words and punctuations\n",
        "        # Each of the splitted string is called a \"token\"\n",
        "\n",
        "        tokens = word_tokenize(item['text'].lower())\n",
        "\n",
        "        # Indices stores the index of the token in the GLoVe embedding matrix\n",
        "        indices = []\n",
        "        for x in tokens:\n",
        "          if x in word_index:\n",
        "              indices.append(word_index[x])\n",
        "          else:\n",
        "              indices.append(word_index['<UNK>'])\n",
        "\n",
        "        # Croping the sentence upto a certain length\n",
        "        indices = indices[:self.ML]\n",
        "        target = self.target_map[item['label']]\n",
        "\n",
        "        # Pad sentence: append <pad_token_index> to the sentence which is shorter than maximum length.\n",
        "        l = len(indices)\n",
        "        if l < self.ML:\n",
        "            indices += [0 for _ in range(self.ML - l)] # 0 is the index of a dummy pad token\n",
        "\n",
        "        # Make sure that the sentence is cropped and padded correctly\n",
        "        assert len(indices) == self.ML\n",
        "        return {\n",
        "            'indices': indices,\n",
        "            'target': target\n",
        "        }\n",
        "\n",
        "    @staticmethod\n",
        "    def pack(items):\n",
        "        \"\"\"\n",
        "        :param items: list of items, each item is an object returned from __getitem__ function\n",
        "        :return:\n",
        "        \"\"\"\n",
        "        # Pack item into batch\n",
        "        # Each batch is a dictionary (similar to each item)\n",
        "        batch = {\n",
        "            'indices': torch.LongTensor([x['indices'] for x in items]),\n",
        "            'target': torch.LongTensor([x['target'] for x in items])\n",
        "        }\n",
        "        return batch"
      ]
    },
    {
      "cell_type": "code",
      "execution_count": null,
      "metadata": {
        "id": "GUCUVKPNmPcT"
      },
      "outputs": [],
      "source": [
        "# Calculating the accuracy score\n",
        "\n",
        "from sklearn.metrics import accuracy_score\n",
        "def metrics(predictions: list, targets: list):\n",
        "    \"\"\"\n",
        "\n",
        "    :param predictions:\n",
        "    :param targets:\n",
        "    :return:\n",
        "    \"\"\"\n",
        "    return accuracy_score(targets, predictions)\n"
      ]
    },
    {
      "cell_type": "code",
      "execution_count": null,
      "metadata": {
        "id": "5jR2n39XmbNy"
      },
      "outputs": [],
      "source": [
        "def load_json(path):\n",
        "    \"\"\"\n",
        "    Load a json file, return the data\n",
        "    :param path:\n",
        "    :return:\n",
        "    \"\"\"\n",
        "    print('Loading', path, end=' ')\n",
        "    with open(path, 'r', encoding='latin-1') as f:\n",
        "        data = json.load(f)\n",
        "    print(len(data))\n",
        "    return data"
      ]
    },
    {
      "cell_type": "code",
      "execution_count": null,
      "metadata": {
        "colab": {
          "base_uri": "https://localhost:8080/"
        },
        "id": "5wemwZ36nQBB",
        "outputId": "49362ea1-80e6-4568-9e12-2e426d34abe1"
      },
      "outputs": [
        {
          "output_type": "stream",
          "name": "stdout",
          "text": [
            "Using device:  cuda\n"
          ]
        }
      ],
      "source": [
        "# Defining hyperparameters\n",
        "# This help the finetuning more organized\n",
        "\n",
        "# ADJUSTING THESE HYPERPARAMETERS\n",
        "\n",
        "class Argument:\n",
        "  n_class= 2    # Number of classes (dont change this)\n",
        "  max_length= 384  # Maximum length of the text will be feed to the model    Try [64:1024]\n",
        "\n",
        "  glove= 'drive/MyDrive/temp/glove.6B.50d.txt'  # GLoVe embedding version, try all given versions\n",
        "  \n",
        "  # Model arguments\n",
        "  dropout= 0.2          # Dropout rate          Try [0.2:0.8]\n",
        "  hidden_size= 128      # Hidden layer size     Try [64:512]\n",
        "  kernel_size= 5        # CNN kernel size       Try [3,5,7,9,11]\n",
        "\n",
        "  # Training arguments\n",
        "  epoch= 30            # Number of training epochs.  Try [20:200]\n",
        "  lr= 0.0075              # Learning rate               Try [1e-2:1e-4]\n",
        "  batch_size= 48       # Batch size                  Try [32:128]\n",
        "  optimizer= torch.optim.SGD        # Optimizer       Try [SGD, Adam, Adadelta]\n",
        "\n",
        "  \n",
        "args = Argument\n",
        "\n",
        "# Setup the CUDA device\n",
        "os.environ['CUDA_VISIBLE_DEVICES'] = \"0\"\n",
        "args = Argument\n",
        "args.device = 'cuda' if torch.cuda.is_available() else 'cpu'\n",
        "\n",
        "# Make sure the cuda is used\n",
        "print('Using device: ', args.device)"
      ]
    },
    {
      "cell_type": "code",
      "source": [
        ""
      ],
      "metadata": {
        "id": "hrGfzdoF07u0"
      },
      "execution_count": null,
      "outputs": []
    },
    {
      "cell_type": "code",
      "execution_count": null,
      "metadata": {
        "id": "4IBIGU_alRyf"
      },
      "outputs": [],
      "source": [
        "import torch.nn as nn\n",
        "\n",
        "# This is a simple version of the CNN for text classification proposed by Yoon Kim\n",
        "# Access the paper here: https://arxiv.org/pdf/1408.5882.pdf\n",
        "class BaseModel(nn.Module):\n",
        "\n",
        "    def __init__(self, embedding_matrix, args):\n",
        "        \"\"\"\n",
        "        :param: embedding_matrix: the GLoVe embedding matrix\n",
        "        :param: args: an object of \"Argument\" class, this class is defined in the later part of the code\n",
        "        \"\"\"\n",
        "\n",
        "        super(BaseModel, self).__init__()\n",
        "        self.device = args.device\n",
        "        hidden_size = args.hidden_size\n",
        "\n",
        "        # creating an embedding module\n",
        "        N, D = embedding_matrix.shape\n",
        "        self.embedding = nn.Embedding(N, D, _weight=torch.FloatTensor(embedding_matrix))\n",
        "\n",
        "        # Disabling gradient update of embedding\n",
        "        self.embedding.weight.requires_grad = False\n",
        "        self.embedding_dim = D\n",
        "\n",
        "\n",
        "        # Define the layers\n",
        "        self.conv = nn.Conv1d(D, hidden_size, kernel_size=args.kernel_size)\n",
        "        self.max_pool = nn.MaxPool1d(args.max_length - args.kernel_size + 1)\n",
        "        self.fc = nn.Sequential(\n",
        "            nn.Tanh(),\n",
        "            nn.Dropout(args.dropout),\n",
        "            nn.Linear(hidden_size, hidden_size),\n",
        "            nn.Tanh(),\n",
        "            nn.Dropout(args.dropout),\n",
        "            nn.Linear(args.hidden_size, args.n_class)\n",
        "        )\n",
        "\n",
        "    def forward(self, batch):\n",
        "        # B denotes batch_size\n",
        "        # L denotes sentence length\n",
        "        # D denotes vector dimension\n",
        "\n",
        "        # Get embedding\n",
        "        embedding = self.embedding(batch['indices'].to(self.device))  # size of (B x L x D)\n",
        "        # print('| embedding', tuple(embedding.shape))\n",
        "        x = embedding.transpose(dim0=1, dim1=2)  # B x D x L\n",
        "        # Feed through the neural network\n",
        "        conv_x = self.conv(x)  # B x D x L\n",
        "        # print('| conv_x', tuple(conv_x.shape))\n",
        "\n",
        "        max_pool = self.max_pool(conv_x) # B x D x 1\n",
        "        max_pool = max_pool.squeeze(dim=2) # B x D\n",
        "        # print('| max_pool', tuple(max_pool.shape))\n",
        "\n",
        "        logits = self.fc(max_pool)\n",
        "\n",
        "        # print('| logits', tuple(logits.shape))\n",
        "\n",
        "\n",
        "        # Calculating the prediction\n",
        "        predictions = torch.argmax(logits, dim=-1)\n",
        "\n",
        "        return logits, predictions"
      ]
    },
    {
      "cell_type": "code",
      "execution_count": null,
      "metadata": {
        "colab": {
          "base_uri": "https://localhost:8080/"
        },
        "id": "QZX6C_KSpHa3",
        "outputId": "c3f30201-5935-4188-d53c-bd90a9c008c5"
      },
      "outputs": [
        {
          "output_type": "stream",
          "name": "stdout",
          "text": [
            "Loading drive/MyDrive/temp/train.json 25000\n",
            "Loading drive/MyDrive/temp/dev.json 25000\n"
          ]
        },
        {
          "output_type": "stream",
          "name": "stderr",
          "text": [
            "/usr/local/lib/python3.7/dist-packages/ipykernel_launcher.py:29: DeprecationWarning: `np.float` is a deprecated alias for the builtin `float`. To silence this warning, use `float` by itself. Doing this will not modify any behavior and is safe. If you specifically wanted the numpy scalar type, use `np.float64` here.\n",
            "Deprecated in NumPy 1.20; for more details and guidance: https://numpy.org/devdocs/release/1.20.0-notes.html#deprecations\n"
          ]
        }
      ],
      "source": [
        "# Creating a dataloader object\n",
        "from torch.utils.data import DataLoader\n",
        "\n",
        "# Shorter = faster training, Longer=(possibly) higher accuracy\n",
        "train_dataset = ImdbDataset('drive/MyDrive/temp/train.json', word_index, args.max_length)\n",
        "dev_dataset = ImdbDataset('drive/MyDrive/temp/dev.json', word_index, args.max_length)\n",
        "\n",
        "train_dl = DataLoader(train_dataset, \n",
        "                      batch_size=args.batch_size, # Mini-batch\n",
        "                      shuffle=True,               # Stochastic \n",
        "                      num_workers=2,              # 4 external processes dedicated for preprocessing data\n",
        "                      collate_fn=ImdbDataset.pack)# Pack separate samples into a batch\n",
        "dev_dl = DataLoader(dev_dataset, \n",
        "                    batch_size=args.batch_size, \n",
        "                    shuffle=False,                # Don't shuffle in evaluation\n",
        "                    num_workers=2,\n",
        "                    collate_fn=ImdbDataset.pack)\n",
        "# Loading GLoVe embedding\n",
        "embedding_matrix, _ = load_glove(args.glove, dim=50)\n",
        "\n"
      ]
    },
    {
      "cell_type": "code",
      "source": [
        "# Creating the model object\n",
        "model = BaseModel(embedding_matrix, args)\n",
        "# Sending the model to GPU\n",
        "model.to(args.device)\n",
        "\n",
        "# Selecting all trainable parameters\n",
        "params = [x for x in model.parameters() if x.requires_grad == True]\n",
        "# Creating an optimizer object\n",
        "optimizer = args.optimizer(params, lr=args.lr)\n",
        "# Printing out to see the model architecture\n",
        "print(model)"
      ],
      "metadata": {
        "colab": {
          "base_uri": "https://localhost:8080/"
        },
        "id": "Pp40Y7zO0okG",
        "outputId": "d8d1226b-f156-457f-b261-9cc4a00d1203"
      },
      "execution_count": null,
      "outputs": [
        {
          "output_type": "stream",
          "name": "stdout",
          "text": [
            "BaseModel(\n",
            "  (embedding): Embedding(400002, 50)\n",
            "  (conv): Conv1d(50, 128, kernel_size=(5,), stride=(1,))\n",
            "  (max_pool): MaxPool1d(kernel_size=380, stride=380, padding=0, dilation=1, ceil_mode=False)\n",
            "  (fc): Sequential(\n",
            "    (0): Tanh()\n",
            "    (1): Dropout(p=0.2, inplace=False)\n",
            "    (2): Linear(in_features=128, out_features=128, bias=True)\n",
            "    (3): Tanh()\n",
            "    (4): Dropout(p=0.2, inplace=False)\n",
            "    (5): Linear(in_features=128, out_features=2, bias=True)\n",
            "  )\n",
            ")\n"
          ]
        }
      ]
    },
    {
      "cell_type": "code",
      "execution_count": null,
      "metadata": {
        "colab": {
          "base_uri": "https://localhost:8080/"
        },
        "id": "52Oy97vVqG3R",
        "outputId": "8729431b-917f-4518-b4a5-0d07e80f056f"
      },
      "outputs": [
        {
          "output_type": "stream",
          "name": "stderr",
          "text": [
            "Train: 100%|██████████| 521/521 [00:42<00:00, 12.22it/s]\n"
          ]
        },
        {
          "output_type": "stream",
          "name": "stdout",
          "text": [
            "Train loss: 0.6947900130057747\n",
            " Training acc: 0.5094\n"
          ]
        },
        {
          "output_type": "stream",
          "name": "stderr",
          "text": [
            "Dev: 100%|██████████| 521/521 [00:40<00:00, 12.97it/s]\n"
          ]
        },
        {
          "output_type": "stream",
          "name": "stdout",
          "text": [
            "Dev loss: 0.692098564927729\n",
            " Dev acc: 0.5008\n",
            "Epoch 0 Train=0.5094 Dev=0.5008\n"
          ]
        },
        {
          "output_type": "stream",
          "name": "stderr",
          "text": [
            "Train: 100%|██████████| 521/521 [00:41<00:00, 12.64it/s]\n"
          ]
        },
        {
          "output_type": "stream",
          "name": "stdout",
          "text": [
            "Train loss: 0.6917869288495773\n",
            " Training acc: 0.52084\n"
          ]
        },
        {
          "output_type": "stream",
          "name": "stderr",
          "text": [
            "Dev: 100%|██████████| 521/521 [00:39<00:00, 13.13it/s]\n"
          ]
        },
        {
          "output_type": "stream",
          "name": "stdout",
          "text": [
            "Dev loss: 0.6863162125140829\n",
            " Dev acc: 0.55328\n",
            "Epoch 1 Train=0.5208 Dev=0.5533\n"
          ]
        },
        {
          "output_type": "stream",
          "name": "stderr",
          "text": [
            "Train: 100%|██████████| 521/521 [00:41<00:00, 12.57it/s]\n"
          ]
        },
        {
          "output_type": "stream",
          "name": "stdout",
          "text": [
            "Train loss: 0.6854801296958997\n",
            " Training acc: 0.55104\n"
          ]
        },
        {
          "output_type": "stream",
          "name": "stderr",
          "text": [
            "Dev: 100%|██████████| 521/521 [00:39<00:00, 13.27it/s]\n"
          ]
        },
        {
          "output_type": "stream",
          "name": "stdout",
          "text": [
            "Dev loss: 0.6800588135984718\n",
            " Dev acc: 0.61628\n",
            "Epoch 2 Train=0.5510 Dev=0.6163\n"
          ]
        },
        {
          "output_type": "stream",
          "name": "stderr",
          "text": [
            "Train: 100%|██████████| 521/521 [00:41<00:00, 12.66it/s]\n"
          ]
        },
        {
          "output_type": "stream",
          "name": "stdout",
          "text": [
            "Train loss: 0.6774690974925621\n",
            " Training acc: 0.58344\n"
          ]
        },
        {
          "output_type": "stream",
          "name": "stderr",
          "text": [
            "Dev: 100%|██████████| 521/521 [00:39<00:00, 13.12it/s]\n"
          ]
        },
        {
          "output_type": "stream",
          "name": "stdout",
          "text": [
            "Dev loss: 0.6722669991559121\n",
            " Dev acc: 0.58364\n",
            "Epoch 3 Train=0.5834 Dev=0.5836\n"
          ]
        },
        {
          "output_type": "stream",
          "name": "stderr",
          "text": [
            "Train: 100%|██████████| 521/521 [00:41<00:00, 12.54it/s]\n"
          ]
        },
        {
          "output_type": "stream",
          "name": "stdout",
          "text": [
            "Train loss: 0.6628256147287629\n",
            " Training acc: 0.6142\n"
          ]
        },
        {
          "output_type": "stream",
          "name": "stderr",
          "text": [
            "Dev: 100%|██████████| 521/521 [00:39<00:00, 13.04it/s]\n"
          ]
        },
        {
          "output_type": "stream",
          "name": "stdout",
          "text": [
            "Dev loss: 0.6510473601877576\n",
            " Dev acc: 0.65608\n",
            "Epoch 4 Train=0.6142 Dev=0.6561\n"
          ]
        },
        {
          "output_type": "stream",
          "name": "stderr",
          "text": [
            "Train: 100%|██████████| 521/521 [00:41<00:00, 12.49it/s]\n"
          ]
        },
        {
          "output_type": "stream",
          "name": "stdout",
          "text": [
            "Train loss: 0.6421165714565943\n",
            " Training acc: 0.64028\n"
          ]
        },
        {
          "output_type": "stream",
          "name": "stderr",
          "text": [
            "Dev: 100%|██████████| 521/521 [00:39<00:00, 13.06it/s]\n"
          ]
        },
        {
          "output_type": "stream",
          "name": "stdout",
          "text": [
            "Dev loss: 0.6236875832881671\n",
            " Dev acc: 0.67024\n",
            "Epoch 5 Train=0.6403 Dev=0.6702\n"
          ]
        },
        {
          "output_type": "stream",
          "name": "stderr",
          "text": [
            "Train: 100%|██████████| 521/521 [00:41<00:00, 12.45it/s]\n"
          ]
        },
        {
          "output_type": "stream",
          "name": "stdout",
          "text": [
            "Train loss: 0.6069846324293718\n",
            " Training acc: 0.681\n"
          ]
        },
        {
          "output_type": "stream",
          "name": "stderr",
          "text": [
            "Dev: 100%|██████████| 521/521 [00:39<00:00, 13.04it/s]\n"
          ]
        },
        {
          "output_type": "stream",
          "name": "stdout",
          "text": [
            "Dev loss: 0.5842482409298763\n",
            " Dev acc: 0.701\n",
            "Epoch 6 Train=0.6810 Dev=0.7010\n"
          ]
        },
        {
          "output_type": "stream",
          "name": "stderr",
          "text": [
            "Train: 100%|██████████| 521/521 [00:41<00:00, 12.64it/s]\n"
          ]
        },
        {
          "output_type": "stream",
          "name": "stdout",
          "text": [
            "Train loss: 0.5656394244041186\n",
            " Training acc: 0.71552\n"
          ]
        },
        {
          "output_type": "stream",
          "name": "stderr",
          "text": [
            "Dev: 100%|██████████| 521/521 [00:39<00:00, 13.05it/s]\n"
          ]
        },
        {
          "output_type": "stream",
          "name": "stdout",
          "text": [
            "Dev loss: 0.5326596405249868\n",
            " Dev acc: 0.744\n",
            "Epoch 7 Train=0.7155 Dev=0.7440\n"
          ]
        },
        {
          "output_type": "stream",
          "name": "stderr",
          "text": [
            "Train: 100%|██████████| 521/521 [00:41<00:00, 12.69it/s]\n"
          ]
        },
        {
          "output_type": "stream",
          "name": "stdout",
          "text": [
            "Train loss: 0.5209089192113125\n",
            " Training acc: 0.74916\n"
          ]
        },
        {
          "output_type": "stream",
          "name": "stderr",
          "text": [
            "Dev: 100%|██████████| 521/521 [00:39<00:00, 13.33it/s]\n"
          ]
        },
        {
          "output_type": "stream",
          "name": "stdout",
          "text": [
            "Dev loss: 0.49361420907580694\n",
            " Dev acc: 0.76852\n",
            "Epoch 8 Train=0.7492 Dev=0.7685\n"
          ]
        },
        {
          "output_type": "stream",
          "name": "stderr",
          "text": [
            "Train: 100%|██████████| 521/521 [00:40<00:00, 12.84it/s]\n"
          ]
        },
        {
          "output_type": "stream",
          "name": "stdout",
          "text": [
            "Train loss: 0.49103332978750147\n",
            " Training acc: 0.76732\n"
          ]
        },
        {
          "output_type": "stream",
          "name": "stderr",
          "text": [
            "Dev: 100%|██████████| 521/521 [00:39<00:00, 13.23it/s]\n"
          ]
        },
        {
          "output_type": "stream",
          "name": "stdout",
          "text": [
            "Dev loss: 0.46828171210417135\n",
            " Dev acc: 0.7816\n",
            "Epoch 9 Train=0.7673 Dev=0.7816\n"
          ]
        },
        {
          "output_type": "stream",
          "name": "stderr",
          "text": [
            "Train: 100%|██████████| 521/521 [00:40<00:00, 12.73it/s]\n"
          ]
        },
        {
          "output_type": "stream",
          "name": "stdout",
          "text": [
            "Train loss: 0.4657515456145647\n",
            " Training acc: 0.78232\n"
          ]
        },
        {
          "output_type": "stream",
          "name": "stderr",
          "text": [
            "Dev: 100%|██████████| 521/521 [00:39<00:00, 13.16it/s]\n"
          ]
        },
        {
          "output_type": "stream",
          "name": "stdout",
          "text": [
            "Dev loss: 0.44818381144309455\n",
            " Dev acc: 0.79232\n",
            "Epoch 10 Train=0.7823 Dev=0.7923\n"
          ]
        },
        {
          "output_type": "stream",
          "name": "stderr",
          "text": [
            "Train: 100%|██████████| 521/521 [00:40<00:00, 12.76it/s]\n"
          ]
        },
        {
          "output_type": "stream",
          "name": "stdout",
          "text": [
            "Train loss: 0.4497842073097339\n",
            " Training acc: 0.7904\n"
          ]
        },
        {
          "output_type": "stream",
          "name": "stderr",
          "text": [
            "Dev: 100%|██████████| 521/521 [00:39<00:00, 13.09it/s]\n"
          ]
        },
        {
          "output_type": "stream",
          "name": "stdout",
          "text": [
            "Dev loss: 0.4359054864310944\n",
            " Dev acc: 0.7984\n",
            "Epoch 11 Train=0.7904 Dev=0.7984\n"
          ]
        },
        {
          "output_type": "stream",
          "name": "stderr",
          "text": [
            "Train: 100%|██████████| 521/521 [00:40<00:00, 12.72it/s]\n"
          ]
        },
        {
          "output_type": "stream",
          "name": "stdout",
          "text": [
            "Train loss: 0.43542638684188567\n",
            " Training acc: 0.79908\n"
          ]
        },
        {
          "output_type": "stream",
          "name": "stderr",
          "text": [
            "Dev: 100%|██████████| 521/521 [00:39<00:00, 13.25it/s]\n"
          ]
        },
        {
          "output_type": "stream",
          "name": "stdout",
          "text": [
            "Dev loss: 0.43362288468744387\n",
            " Dev acc: 0.80076\n",
            "Epoch 12 Train=0.7991 Dev=0.8008\n"
          ]
        },
        {
          "output_type": "stream",
          "name": "stderr",
          "text": [
            "Train: 100%|██████████| 521/521 [00:40<00:00, 12.79it/s]\n"
          ]
        },
        {
          "output_type": "stream",
          "name": "stdout",
          "text": [
            "Train loss: 0.422266104142405\n",
            " Training acc: 0.80616\n"
          ]
        },
        {
          "output_type": "stream",
          "name": "stderr",
          "text": [
            "Dev: 100%|██████████| 521/521 [00:39<00:00, 13.23it/s]\n"
          ]
        },
        {
          "output_type": "stream",
          "name": "stdout",
          "text": [
            "Dev loss: 0.4190436457489365\n",
            " Dev acc: 0.80696\n",
            "Epoch 13 Train=0.8062 Dev=0.8070\n"
          ]
        },
        {
          "output_type": "stream",
          "name": "stderr",
          "text": [
            "Train: 100%|██████████| 521/521 [00:40<00:00, 12.84it/s]\n"
          ]
        },
        {
          "output_type": "stream",
          "name": "stdout",
          "text": [
            "Train loss: 0.4128011665280172\n",
            " Training acc: 0.8118\n"
          ]
        },
        {
          "output_type": "stream",
          "name": "stderr",
          "text": [
            "Dev: 100%|██████████| 521/521 [00:38<00:00, 13.45it/s]\n"
          ]
        },
        {
          "output_type": "stream",
          "name": "stdout",
          "text": [
            "Dev loss: 0.43861372429956175\n",
            " Dev acc: 0.79644\n",
            "Epoch 14 Train=0.8118 Dev=0.7964\n"
          ]
        },
        {
          "output_type": "stream",
          "name": "stderr",
          "text": [
            "Train: 100%|██████████| 521/521 [00:40<00:00, 12.75it/s]\n"
          ]
        },
        {
          "output_type": "stream",
          "name": "stdout",
          "text": [
            "Train loss: 0.40519364478492004\n",
            " Training acc: 0.816\n"
          ]
        },
        {
          "output_type": "stream",
          "name": "stderr",
          "text": [
            "Dev: 100%|██████████| 521/521 [00:39<00:00, 13.29it/s]\n"
          ]
        },
        {
          "output_type": "stream",
          "name": "stdout",
          "text": [
            "Dev loss: 0.40980749441428743\n",
            " Dev acc: 0.81456\n",
            "Epoch 15 Train=0.8160 Dev=0.8146\n"
          ]
        },
        {
          "output_type": "stream",
          "name": "stderr",
          "text": [
            "Train: 100%|██████████| 521/521 [00:40<00:00, 12.89it/s]\n"
          ]
        },
        {
          "output_type": "stream",
          "name": "stdout",
          "text": [
            "Train loss: 0.3971419591821315\n",
            " Training acc: 0.819\n"
          ]
        },
        {
          "output_type": "stream",
          "name": "stderr",
          "text": [
            "Dev: 100%|██████████| 521/521 [00:38<00:00, 13.41it/s]\n"
          ]
        },
        {
          "output_type": "stream",
          "name": "stdout",
          "text": [
            "Dev loss: 0.41649158673643377\n",
            " Dev acc: 0.808\n",
            "Epoch 16 Train=0.8190 Dev=0.8080\n"
          ]
        },
        {
          "output_type": "stream",
          "name": "stderr",
          "text": [
            "Train: 100%|██████████| 521/521 [00:40<00:00, 12.85it/s]\n"
          ]
        },
        {
          "output_type": "stream",
          "name": "stdout",
          "text": [
            "Train loss: 0.3872314242792679\n",
            " Training acc: 0.826\n"
          ]
        },
        {
          "output_type": "stream",
          "name": "stderr",
          "text": [
            "Dev: 100%|██████████| 521/521 [00:39<00:00, 13.28it/s]\n"
          ]
        },
        {
          "output_type": "stream",
          "name": "stdout",
          "text": [
            "Dev loss: 0.4441582330014564\n",
            " Dev acc: 0.7932\n",
            "Epoch 17 Train=0.8260 Dev=0.7932\n"
          ]
        },
        {
          "output_type": "stream",
          "name": "stderr",
          "text": [
            "Train: 100%|██████████| 521/521 [00:40<00:00, 12.88it/s]\n"
          ]
        },
        {
          "output_type": "stream",
          "name": "stdout",
          "text": [
            "Train loss: 0.38010345482322855\n",
            " Training acc: 0.82932\n"
          ]
        },
        {
          "output_type": "stream",
          "name": "stderr",
          "text": [
            "Dev: 100%|██████████| 521/521 [00:38<00:00, 13.43it/s]\n"
          ]
        },
        {
          "output_type": "stream",
          "name": "stdout",
          "text": [
            "Dev loss: 0.4026629589569546\n",
            " Dev acc: 0.81672\n",
            "Epoch 18 Train=0.8293 Dev=0.8167\n"
          ]
        },
        {
          "output_type": "stream",
          "name": "stderr",
          "text": [
            "Train: 100%|██████████| 521/521 [00:40<00:00, 12.84it/s]\n"
          ]
        },
        {
          "output_type": "stream",
          "name": "stdout",
          "text": [
            "Train loss: 0.36988387695887265\n",
            " Training acc: 0.8352\n"
          ]
        },
        {
          "output_type": "stream",
          "name": "stderr",
          "text": [
            "Dev: 100%|██████████| 521/521 [00:39<00:00, 13.16it/s]\n"
          ]
        },
        {
          "output_type": "stream",
          "name": "stdout",
          "text": [
            "Dev loss: 0.4312198195685123\n",
            " Dev acc: 0.80068\n",
            "Epoch 19 Train=0.8352 Dev=0.8007\n"
          ]
        },
        {
          "output_type": "stream",
          "name": "stderr",
          "text": [
            "Train: 100%|██████████| 521/521 [00:41<00:00, 12.68it/s]\n"
          ]
        },
        {
          "output_type": "stream",
          "name": "stdout",
          "text": [
            "Train loss: 0.3618199393696611\n",
            " Training acc: 0.83904\n"
          ]
        },
        {
          "output_type": "stream",
          "name": "stderr",
          "text": [
            "Dev: 100%|██████████| 521/521 [00:39<00:00, 13.32it/s]\n"
          ]
        },
        {
          "output_type": "stream",
          "name": "stdout",
          "text": [
            "Dev loss: 0.4526955011996106\n",
            " Dev acc: 0.78984\n",
            "Epoch 20 Train=0.8390 Dev=0.7898\n"
          ]
        },
        {
          "output_type": "stream",
          "name": "stderr",
          "text": [
            "Train: 100%|██████████| 521/521 [00:40<00:00, 12.82it/s]\n"
          ]
        },
        {
          "output_type": "stream",
          "name": "stdout",
          "text": [
            "Train loss: 0.3588816391986986\n",
            " Training acc: 0.84272\n"
          ]
        },
        {
          "output_type": "stream",
          "name": "stderr",
          "text": [
            "Dev: 100%|██████████| 521/521 [00:39<00:00, 13.26it/s]\n"
          ]
        },
        {
          "output_type": "stream",
          "name": "stdout",
          "text": [
            "Dev loss: 0.39767277804194395\n",
            " Dev acc: 0.8194\n",
            "Epoch 21 Train=0.8427 Dev=0.8194\n"
          ]
        },
        {
          "output_type": "stream",
          "name": "stderr",
          "text": [
            "Train: 100%|██████████| 521/521 [00:40<00:00, 12.86it/s]\n"
          ]
        },
        {
          "output_type": "stream",
          "name": "stdout",
          "text": [
            "Train loss: 0.3473896831846054\n",
            " Training acc: 0.85072\n"
          ]
        },
        {
          "output_type": "stream",
          "name": "stderr",
          "text": [
            "Dev: 100%|██████████| 521/521 [00:39<00:00, 13.36it/s]\n"
          ]
        },
        {
          "output_type": "stream",
          "name": "stdout",
          "text": [
            "Dev loss: 0.39753003870342607\n",
            " Dev acc: 0.8196\n",
            "Epoch 22 Train=0.8507 Dev=0.8196\n"
          ]
        },
        {
          "output_type": "stream",
          "name": "stderr",
          "text": [
            "Train: 100%|██████████| 521/521 [00:40<00:00, 12.79it/s]\n"
          ]
        },
        {
          "output_type": "stream",
          "name": "stdout",
          "text": [
            "Train loss: 0.3453082677956506\n",
            " Training acc: 0.84892\n"
          ]
        },
        {
          "output_type": "stream",
          "name": "stderr",
          "text": [
            "Dev: 100%|██████████| 521/521 [00:39<00:00, 13.27it/s]\n"
          ]
        },
        {
          "output_type": "stream",
          "name": "stdout",
          "text": [
            "Dev loss: 0.40397527281931406\n",
            " Dev acc: 0.81656\n",
            "Epoch 23 Train=0.8489 Dev=0.8166\n"
          ]
        },
        {
          "output_type": "stream",
          "name": "stderr",
          "text": [
            "Train: 100%|██████████| 521/521 [00:40<00:00, 12.80it/s]\n"
          ]
        },
        {
          "output_type": "stream",
          "name": "stdout",
          "text": [
            "Train loss: 0.3303024844908211\n",
            " Training acc: 0.85496\n"
          ]
        },
        {
          "output_type": "stream",
          "name": "stderr",
          "text": [
            "Dev: 100%|██████████| 521/521 [00:38<00:00, 13.39it/s]\n"
          ]
        },
        {
          "output_type": "stream",
          "name": "stdout",
          "text": [
            "Dev loss: 0.40159981979518383\n",
            " Dev acc: 0.8194\n",
            "Epoch 24 Train=0.8550 Dev=0.8194\n"
          ]
        },
        {
          "output_type": "stream",
          "name": "stderr",
          "text": [
            "Train: 100%|██████████| 521/521 [00:40<00:00, 12.90it/s]\n"
          ]
        },
        {
          "output_type": "stream",
          "name": "stdout",
          "text": [
            "Train loss: 0.33255006441571205\n",
            " Training acc: 0.85516\n"
          ]
        },
        {
          "output_type": "stream",
          "name": "stderr",
          "text": [
            "Dev: 100%|██████████| 521/521 [00:39<00:00, 13.28it/s]\n"
          ]
        },
        {
          "output_type": "stream",
          "name": "stdout",
          "text": [
            "Dev loss: 0.3902057936690362\n",
            " Dev acc: 0.82408\n",
            "Epoch 25 Train=0.8552 Dev=0.8241\n"
          ]
        },
        {
          "output_type": "stream",
          "name": "stderr",
          "text": [
            "Train: 100%|██████████| 521/521 [00:40<00:00, 12.87it/s]\n"
          ]
        },
        {
          "output_type": "stream",
          "name": "stdout",
          "text": [
            "Train loss: 0.3247673863298376\n",
            " Training acc: 0.85856\n"
          ]
        },
        {
          "output_type": "stream",
          "name": "stderr",
          "text": [
            "Dev: 100%|██████████| 521/521 [00:38<00:00, 13.38it/s]\n"
          ]
        },
        {
          "output_type": "stream",
          "name": "stdout",
          "text": [
            "Dev loss: 0.3966844214301649\n",
            " Dev acc: 0.821\n",
            "Epoch 26 Train=0.8586 Dev=0.8210\n"
          ]
        },
        {
          "output_type": "stream",
          "name": "stderr",
          "text": [
            "Train: 100%|██████████| 521/521 [00:40<00:00, 12.84it/s]\n"
          ]
        },
        {
          "output_type": "stream",
          "name": "stdout",
          "text": [
            "Train loss: 0.32094647828310785\n",
            " Training acc: 0.86148\n"
          ]
        },
        {
          "output_type": "stream",
          "name": "stderr",
          "text": [
            "Dev: 100%|██████████| 521/521 [00:39<00:00, 13.21it/s]\n"
          ]
        },
        {
          "output_type": "stream",
          "name": "stdout",
          "text": [
            "Dev loss: 0.3904393863025874\n",
            " Dev acc: 0.82472\n",
            "Epoch 27 Train=0.8615 Dev=0.8247\n"
          ]
        },
        {
          "output_type": "stream",
          "name": "stderr",
          "text": [
            "Train: 100%|██████████| 521/521 [00:40<00:00, 12.86it/s]\n"
          ]
        },
        {
          "output_type": "stream",
          "name": "stdout",
          "text": [
            "Train loss: 0.3128671387421421\n",
            " Training acc: 0.86556\n"
          ]
        },
        {
          "output_type": "stream",
          "name": "stderr",
          "text": [
            "Dev: 100%|██████████| 521/521 [00:38<00:00, 13.40it/s]\n"
          ]
        },
        {
          "output_type": "stream",
          "name": "stdout",
          "text": [
            "Dev loss: 0.4159727981331939\n",
            " Dev acc: 0.8124\n",
            "Epoch 28 Train=0.8656 Dev=0.8124\n"
          ]
        },
        {
          "output_type": "stream",
          "name": "stderr",
          "text": [
            "Train: 100%|██████████| 521/521 [00:40<00:00, 12.85it/s]\n"
          ]
        },
        {
          "output_type": "stream",
          "name": "stdout",
          "text": [
            "Train loss: 0.3078070858389768\n",
            " Training acc: 0.866\n"
          ]
        },
        {
          "output_type": "stream",
          "name": "stderr",
          "text": [
            "Dev: 100%|██████████| 521/521 [00:39<00:00, 13.28it/s]"
          ]
        },
        {
          "output_type": "stream",
          "name": "stdout",
          "text": [
            "Dev loss: 0.391313188307116\n",
            " Dev acc: 0.825\n",
            "Epoch 29 Train=0.8660 Dev=0.8250\n"
          ]
        },
        {
          "output_type": "stream",
          "name": "stderr",
          "text": [
            "\n"
          ]
        }
      ],
      "source": [
        "from tqdm import tqdm\n",
        "import matplotlib.pyplot as plt\n",
        "import numpy as np\n",
        "\n",
        "\n",
        "def train_and_evaluate(model, train_dl, dev_dl, optimizer, args):\n",
        "    \"\"\"\n",
        "    Implementation of stochastic gradient decent\n",
        "    \"\"\"\n",
        "    loss_fn = torch.nn.CrossEntropyLoss()\n",
        "    global dev_loss_list\n",
        "    global train_loss_list\n",
        "    global train_acc_list\n",
        "    global dev_acc_list\n",
        "    dev_loss_list = []\n",
        "    train_loss_list = []\n",
        "    train_acc_list = []\n",
        "    dev_acc_list = []\n",
        "\n",
        "    for e in range(args.epoch):\n",
        "        train_loss = 0\n",
        "        dev_loss = 0\n",
        "\n",
        "        # Training\n",
        "        model.train()\n",
        "        train_targets, train_preds = [], []\n",
        "        for batch in tqdm(train_dl, desc='Train'):\n",
        "            optimizer.zero_grad()\n",
        "            logits, preds = model(batch)\n",
        "            train_preds += preds.detach().cpu().numpy().tolist()\n",
        "            targets = batch['target'].numpy().tolist()\n",
        "            train_targets += targets\n",
        "            loss = loss_fn(logits, batch['target'].to(args.device))\n",
        "            loss.backward()\n",
        "            # Printing loss \n",
        "            train_loss += loss.item()\n",
        "            optimizer.step()\n",
        "\n",
        "        avg_train_loss = (train_loss/len(train_dl))\n",
        "        print(\"Train loss:\", avg_train_loss )\n",
        "        train_loss_list.append(avg_train_loss)\n",
        "        train_acc = metrics(train_preds, train_targets)\n",
        "        train_acc_list.append(train_acc)\n",
        "\n",
        "        # Printing train_acc\n",
        "        print(\" Training acc:\", train_acc)\n",
        "\n",
        "        # Evaluation\n",
        "        model.eval()\n",
        "        dev_targets, dev_preds = [], []\n",
        "        for batch in tqdm(dev_dl, desc=\"Dev\"):\n",
        "            _, preds = model(batch)\n",
        "            dev_preds += preds.detach().cpu().numpy().tolist()\n",
        "            targets = batch['target'].numpy().tolist()\n",
        "            dev_targets += targets\n",
        "            #computing dev loss and printing\n",
        "            loss = loss_fn(_, batch['target'].to(args.device))\n",
        "            dev_loss += loss.item()\n",
        "        \n",
        "        avg_dev_loss = (dev_loss/len(dev_dl))\n",
        "        print(\"Dev loss:\", avg_dev_loss )\n",
        "        dev_loss_list.append(avg_dev_loss)\n",
        "        dev_acc = metrics(dev_preds, dev_targets)\n",
        "        dev_acc_list.append(dev_acc)\n",
        "        # printing dev_acc\n",
        "        print(\" Dev acc:\", dev_acc)\n",
        "\n",
        "        # Logging the epoch and scores\n",
        "        print(f'Epoch {e} Train={train_acc:.4f} Dev={dev_acc:.4f}')\n",
        "# Actual training\n",
        "train_and_evaluate(model, train_dl, dev_dl, optimizer, args)\n",
        "\n"
      ]
    },
    {
      "cell_type": "code",
      "source": [
        "\n",
        " # Adding more code to print out logging \n",
        " # Using visualization library like matplotlib to visualize training/evaluation process\n",
        " #    such as training loss, training accuracy, development loss, development accuracy\n",
        "\n",
        "import matplotlib.pyplot as plt\n",
        "\n",
        "# learning curve for loss function on training and development data\n",
        "\n",
        "plt.plot(range(0,args.epoch), train_loss_list, 'g', label='Training loss')\n",
        "plt.plot(range(0,args.epoch), dev_loss_list, 'b', label='Dev loss')\n",
        "plt.title('Learning curve for loss on Train and Dev')\n",
        "plt.xlabel('Epochs')\n",
        "plt.ylabel('Loss')\n",
        "plt.legend()\n",
        "plt.show()\n",
        "\n",
        "# Learning curves for accuracy on training and development data\n",
        "\n",
        "\n",
        "plt.plot(range(0,args.epoch), train_acc_list, 'g', label='Training acc')\n",
        "plt.plot(range(0,args.epoch), dev_acc_list, 'b', label='Dev acc')\n",
        "plt.title('Learning curves for acc on Train and Dev')\n",
        "plt.xlabel('Epochs')\n",
        "plt.ylabel('Accuracy')\n",
        "plt.legend()\n",
        "plt.show()\n",
        "\n",
        "\n"
      ],
      "metadata": {
        "id": "57I0AyjQ4hcJ",
        "colab": {
          "base_uri": "https://localhost:8080/",
          "height": 573
        },
        "outputId": "6062e624-7ff5-4bda-a350-6c17d976f82e"
      },
      "execution_count": null,
      "outputs": [
        {
          "output_type": "display_data",
          "data": {
            "text/plain": [
              "<Figure size 432x288 with 1 Axes>"
            ],
            "image/png": "[encoded data removed]"
          },
          "metadata": {
            "needs_background": "light"
          }
        },
        {
          "output_type": "display_data",
          "data": {
            "text/plain": [
              "<Figure size 432x288 with 1 Axes>"
            ],
            "image/png": "[encoded data removed]"
          },
          "metadata": {
            "needs_background": "light"
          }
        }
      ]
    },
    {
      "cell_type": "code",
      "source": [
        ""
      ],
      "metadata": {
        "id": "a-WyUG9o5F19"
      },
      "execution_count": null,
      "outputs": []
    }
  ],
  "metadata": {
    "accelerator": "GPU",
    "colab": {
      "collapsed_sections": [],
      "name": "HW4_sentiment-classification.ipynb",
      "provenance": []
    },
    "kernelspec": {
      "display_name": "Python 3",
      "name": "python3"
    },
    "language_info": {
      "name": "python"
    }
  },
  "nbformat": 4,
  "nbformat_minor": 0
}